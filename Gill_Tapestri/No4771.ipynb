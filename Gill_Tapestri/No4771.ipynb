{
 "cells": [
  {
   "cell_type": "markdown",
   "metadata": {},
   "source": [
    "### Setup"
   ]
  },
  {
   "cell_type": "markdown",
   "metadata": {},
   "source": [
    "<b>Objective</b><br>\n",
    "To showcase the minimum number of steps<br>\n",
    "required to do tertiary analysis of DNA + Protein<br>\n",
    "and some of the different ways to look at the data<br>\n",
    "\n",
    "<b>Major questions answered:</b>\n",
    "1. Do we see DNA clones?<br>\n",
    "2. Do we see protein cell types<br>\n",
    "3. Is the differential expression significant?<br>\n",
    "4. Do the clones correlate with the cell types?<br>\n",
    "\n",
    "<b>Things not shown:</b>\n",
    "1. All available methods eg. Filtering of nearby variants, variant annotation, plots\n",
    "\n",
    "2. Discussing all methods and their options - Documented [here](https://mbkkjsp.github.io/mexdocs/index.html)<br>\n",
    "\n",
    "3. Systemic variations seen in protein data - Next session<br>"
   ]
  },
  {
   "cell_type": "code",
   "execution_count": 1,
   "metadata": {},
   "outputs": [],
   "source": [
    "#import mosaic libraries\n",
    "\n",
    "import missionbio.mosaic.io as mio"
   ]
  },
  {
   "cell_type": "code",
   "execution_count": 2,
   "metadata": {},
   "outputs": [
    {
     "name": "stdout",
     "output_type": "stream",
     "text": [
      "Help on function load in module missionbio.mosaic.io:\n",
      "\n",
      "load(filepath: Any, apply_filter: bool = True, whitelist: Union[Sequence, NoneType] = None, raw: bool = False, single: bool = False) -> Union[missionbio.mosaic.sample.Sample, missionbio.mosaic.samplegroup.SampleGroup]\n",
      "    Loading the .h5 file with one or more assays.\n",
      "    \n",
      "    This is the preferred way of loading .h5 files.\n",
      "    \n",
      "    It directly returns a `Sample` object, which\n",
      "    contains all the assays. Those assays that were\n",
      "    not present are stored as `None`.\n",
      "    \n",
      "    Parameters\n",
      "    ----------\n",
      "    filepath:\n",
      "        The path to the .h5 multi-omics file.\n",
      "    apply_filter:\n",
      "        Whether to load only the filtered dna variants.\n",
      "    whitelist:\n",
      "        The specific dna variants to load.\n",
      "    raw:\n",
      "        Whether the raw counts are to be loaded.\n",
      "    single:\n",
      "        Whether to load as a single sample despite being\n",
      "        a multi sample h5 file (Not a recommended approach).\n",
      "        Only use this for debugging issues.\n",
      "    \n",
      "    Returns\n",
      "    -------\n",
      "    missionbio.mosaic.sample.Sample / missionbio.mosaic.samplegroup.SampleGroup\n",
      "    \n",
      "    Raises\n",
      "    ------\n",
      "    Exception\n",
      "        When the h5 file format is not supported.\n",
      "\n"
     ]
    }
   ],
   "source": [
    "help(mio.load)"
   ]
  },
  {
   "cell_type": "code",
   "execution_count": 5,
   "metadata": {},
   "outputs": [
    {
     "ename": "OSError",
     "evalue": "Unable to open file (unable to open file: name = '/media/daisuke-ido/Seagate Expansion Drive/Gill_Tapestri/data/No4771_DNA_Protein.dna+protein.h5', errno = 30, error message = 'Read-only file system', flags = 1, o_flags = 2)",
     "output_type": "error",
     "traceback": [
      "\u001b[0;31m---------------------------------------------------------------------------\u001b[0m",
      "\u001b[0;31mOSError\u001b[0m                                   Traceback (most recent call last)",
      "\u001b[0;32m/tmp/ipykernel_13859/2844678751.py\u001b[0m in \u001b[0;36m<module>\u001b[0;34m\u001b[0m\n\u001b[1;32m      1\u001b[0m \u001b[0;31m#h5path = r'C:\\Users\\marribas\\Documents\\Loom h5 files\\UPenn - Saar Gill\\No4771_DNA_Protein.dna+protein.h5'\u001b[0m\u001b[0;34m\u001b[0m\u001b[0;34m\u001b[0m\u001b[0;34m\u001b[0m\u001b[0m\n\u001b[1;32m      2\u001b[0m \u001b[0;31m#if working with Windows you may need to add an r before the path: h5path = r'/path/to.h5/file/test.h5'\u001b[0m\u001b[0;34m\u001b[0m\u001b[0;34m\u001b[0m\u001b[0;34m\u001b[0m\u001b[0m\n\u001b[0;32m----> 3\u001b[0;31m \u001b[0msample\u001b[0m \u001b[0;34m=\u001b[0m \u001b[0mmio\u001b[0m\u001b[0;34m.\u001b[0m\u001b[0mload\u001b[0m\u001b[0;34m(\u001b[0m\u001b[0;34m\"/media/daisuke-ido/Seagate Expansion Drive/Gill_Tapestri/data/No4771_DNA_Protein.dna+protein.h5\"\u001b[0m\u001b[0;34m,\u001b[0m \u001b[0mraw\u001b[0m\u001b[0;34m=\u001b[0m\u001b[0;32mFalse\u001b[0m\u001b[0;34m,\u001b[0m \u001b[0mapply_filter\u001b[0m\u001b[0;34m=\u001b[0m\u001b[0;32mTrue\u001b[0m\u001b[0;34m)\u001b[0m\u001b[0;34m\u001b[0m\u001b[0;34m\u001b[0m\u001b[0m\n\u001b[0m\u001b[1;32m      4\u001b[0m \u001b[0;31m#keep raw always at False; if raw = True ALL barcodes will be loaded (not just cell assoc barcodes)\u001b[0m\u001b[0;34m\u001b[0m\u001b[0;34m\u001b[0m\u001b[0;34m\u001b[0m\u001b[0m\n\u001b[1;32m      5\u001b[0m \u001b[0;31m#keep apply_filter at True unless you can't detect an expected (target) variant\u001b[0m\u001b[0;34m\u001b[0m\u001b[0;34m\u001b[0m\u001b[0;34m\u001b[0m\u001b[0m\n",
      "\u001b[0;32m~/mambaforge/lib/python3.7/site-packages/missionbio/mosaic/io.py\u001b[0m in \u001b[0;36mload\u001b[0;34m(filepath, apply_filter, whitelist, raw, single)\u001b[0m\n\u001b[1;32m    493\u001b[0m     \"\"\"\n\u001b[1;32m    494\u001b[0m \u001b[0;34m\u001b[0m\u001b[0m\n\u001b[0;32m--> 495\u001b[0;31m     \u001b[0;32mif\u001b[0m \u001b[0;32mnot\u001b[0m \u001b[0m_is_supported\u001b[0m\u001b[0;34m(\u001b[0m\u001b[0mfilepath\u001b[0m\u001b[0;34m)\u001b[0m\u001b[0;34m:\u001b[0m\u001b[0;34m\u001b[0m\u001b[0;34m\u001b[0m\u001b[0m\n\u001b[0m\u001b[1;32m    496\u001b[0m         \u001b[0;32mraise\u001b[0m \u001b[0mException\u001b[0m\u001b[0;34m(\u001b[0m\u001b[0;34mf\"The version of the .h5 file {filepath} is not supported. Update the file to a supported format by passing update=True.\"\u001b[0m\u001b[0;34m)\u001b[0m\u001b[0;34m\u001b[0m\u001b[0;34m\u001b[0m\u001b[0m\n\u001b[1;32m    497\u001b[0m \u001b[0;34m\u001b[0m\u001b[0m\n",
      "\u001b[0;32m~/mambaforge/lib/python3.7/site-packages/missionbio/mosaic/io.py\u001b[0m in \u001b[0;36m_is_supported\u001b[0;34m(h5file)\u001b[0m\n\u001b[1;32m    195\u001b[0m     \"\"\"\n\u001b[1;32m    196\u001b[0m \u001b[0;34m\u001b[0m\u001b[0m\n\u001b[0;32m--> 197\u001b[0;31m     \u001b[0;32mwith\u001b[0m \u001b[0mh5py\u001b[0m\u001b[0;34m.\u001b[0m\u001b[0mFile\u001b[0m\u001b[0;34m(\u001b[0m\u001b[0mh5file\u001b[0m\u001b[0;34m,\u001b[0m \u001b[0;34m\"r+\"\u001b[0m\u001b[0;34m)\u001b[0m \u001b[0;32mas\u001b[0m \u001b[0mfile\u001b[0m\u001b[0;34m:\u001b[0m\u001b[0;34m\u001b[0m\u001b[0;34m\u001b[0m\u001b[0m\n\u001b[0m\u001b[1;32m    198\u001b[0m         \u001b[0;32mif\u001b[0m \u001b[0mMETADATA\u001b[0m \u001b[0;32mnot\u001b[0m \u001b[0;32min\u001b[0m \u001b[0mfile\u001b[0m\u001b[0;34m:\u001b[0m\u001b[0;34m\u001b[0m\u001b[0;34m\u001b[0m\u001b[0m\n\u001b[1;32m    199\u001b[0m             \u001b[0mgrp\u001b[0m \u001b[0;34m=\u001b[0m \u001b[0mfile\u001b[0m\u001b[0;34m.\u001b[0m\u001b[0mcreate_group\u001b[0m\u001b[0;34m(\u001b[0m\u001b[0mMETADATA\u001b[0m\u001b[0;34m)\u001b[0m\u001b[0;34m\u001b[0m\u001b[0;34m\u001b[0m\u001b[0m\n",
      "\u001b[0;32m~/mambaforge/lib/python3.7/site-packages/h5py/_hl/files.py\u001b[0m in \u001b[0;36m__init__\u001b[0;34m(self, name, mode, driver, libver, userblock_size, swmr, rdcc_nslots, rdcc_nbytes, rdcc_w0, track_order, **kwds)\u001b[0m\n\u001b[1;32m    406\u001b[0m                 fid = make_fid(name, mode, userblock_size,\n\u001b[1;32m    407\u001b[0m                                \u001b[0mfapl\u001b[0m\u001b[0;34m,\u001b[0m \u001b[0mfcpl\u001b[0m\u001b[0;34m=\u001b[0m\u001b[0mmake_fcpl\u001b[0m\u001b[0;34m(\u001b[0m\u001b[0mtrack_order\u001b[0m\u001b[0;34m=\u001b[0m\u001b[0mtrack_order\u001b[0m\u001b[0;34m)\u001b[0m\u001b[0;34m,\u001b[0m\u001b[0;34m\u001b[0m\u001b[0;34m\u001b[0m\u001b[0m\n\u001b[0;32m--> 408\u001b[0;31m                                swmr=swmr)\n\u001b[0m\u001b[1;32m    409\u001b[0m \u001b[0;34m\u001b[0m\u001b[0m\n\u001b[1;32m    410\u001b[0m             \u001b[0;32mif\u001b[0m \u001b[0misinstance\u001b[0m\u001b[0;34m(\u001b[0m\u001b[0mlibver\u001b[0m\u001b[0;34m,\u001b[0m \u001b[0mtuple\u001b[0m\u001b[0;34m)\u001b[0m\u001b[0;34m:\u001b[0m\u001b[0;34m\u001b[0m\u001b[0;34m\u001b[0m\u001b[0m\n",
      "\u001b[0;32m~/mambaforge/lib/python3.7/site-packages/h5py/_hl/files.py\u001b[0m in \u001b[0;36mmake_fid\u001b[0;34m(name, mode, userblock_size, fapl, fcpl, swmr)\u001b[0m\n\u001b[1;32m    173\u001b[0m         \u001b[0mfid\u001b[0m \u001b[0;34m=\u001b[0m \u001b[0mh5f\u001b[0m\u001b[0;34m.\u001b[0m\u001b[0mopen\u001b[0m\u001b[0;34m(\u001b[0m\u001b[0mname\u001b[0m\u001b[0;34m,\u001b[0m \u001b[0mflags\u001b[0m\u001b[0;34m,\u001b[0m \u001b[0mfapl\u001b[0m\u001b[0;34m=\u001b[0m\u001b[0mfapl\u001b[0m\u001b[0;34m)\u001b[0m\u001b[0;34m\u001b[0m\u001b[0;34m\u001b[0m\u001b[0m\n\u001b[1;32m    174\u001b[0m     \u001b[0;32melif\u001b[0m \u001b[0mmode\u001b[0m \u001b[0;34m==\u001b[0m \u001b[0;34m'r+'\u001b[0m\u001b[0;34m:\u001b[0m\u001b[0;34m\u001b[0m\u001b[0;34m\u001b[0m\u001b[0m\n\u001b[0;32m--> 175\u001b[0;31m         \u001b[0mfid\u001b[0m \u001b[0;34m=\u001b[0m \u001b[0mh5f\u001b[0m\u001b[0;34m.\u001b[0m\u001b[0mopen\u001b[0m\u001b[0;34m(\u001b[0m\u001b[0mname\u001b[0m\u001b[0;34m,\u001b[0m \u001b[0mh5f\u001b[0m\u001b[0;34m.\u001b[0m\u001b[0mACC_RDWR\u001b[0m\u001b[0;34m,\u001b[0m \u001b[0mfapl\u001b[0m\u001b[0;34m=\u001b[0m\u001b[0mfapl\u001b[0m\u001b[0;34m)\u001b[0m\u001b[0;34m\u001b[0m\u001b[0;34m\u001b[0m\u001b[0m\n\u001b[0m\u001b[1;32m    176\u001b[0m     \u001b[0;32melif\u001b[0m \u001b[0mmode\u001b[0m \u001b[0;32min\u001b[0m \u001b[0;34m[\u001b[0m\u001b[0;34m'w-'\u001b[0m\u001b[0;34m,\u001b[0m \u001b[0;34m'x'\u001b[0m\u001b[0;34m]\u001b[0m\u001b[0;34m:\u001b[0m\u001b[0;34m\u001b[0m\u001b[0;34m\u001b[0m\u001b[0m\n\u001b[1;32m    177\u001b[0m         \u001b[0mfid\u001b[0m \u001b[0;34m=\u001b[0m \u001b[0mh5f\u001b[0m\u001b[0;34m.\u001b[0m\u001b[0mcreate\u001b[0m\u001b[0;34m(\u001b[0m\u001b[0mname\u001b[0m\u001b[0;34m,\u001b[0m \u001b[0mh5f\u001b[0m\u001b[0;34m.\u001b[0m\u001b[0mACC_EXCL\u001b[0m\u001b[0;34m,\u001b[0m \u001b[0mfapl\u001b[0m\u001b[0;34m=\u001b[0m\u001b[0mfapl\u001b[0m\u001b[0;34m,\u001b[0m \u001b[0mfcpl\u001b[0m\u001b[0;34m=\u001b[0m\u001b[0mfcpl\u001b[0m\u001b[0;34m)\u001b[0m\u001b[0;34m\u001b[0m\u001b[0;34m\u001b[0m\u001b[0m\n",
      "\u001b[0;32mh5py/_objects.pyx\u001b[0m in \u001b[0;36mh5py._objects.with_phil.wrapper\u001b[0;34m()\u001b[0m\n",
      "\u001b[0;32mh5py/_objects.pyx\u001b[0m in \u001b[0;36mh5py._objects.with_phil.wrapper\u001b[0;34m()\u001b[0m\n",
      "\u001b[0;32mh5py/h5f.pyx\u001b[0m in \u001b[0;36mh5py.h5f.open\u001b[0;34m()\u001b[0m\n",
      "\u001b[0;31mOSError\u001b[0m: Unable to open file (unable to open file: name = '/media/daisuke-ido/Seagate Expansion Drive/Gill_Tapestri/data/No4771_DNA_Protein.dna+protein.h5', errno = 30, error message = 'Read-only file system', flags = 1, o_flags = 2)"
     ]
    }
   ],
   "source": [
    "#h5path = r'C:\\Users\\marribas\\Documents\\Loom h5 files\\UPenn - Saar Gill\\No4771_DNA_Protein.dna+protein.h5'\n",
    "#if working with Windows you may need to add an r before the path: h5path = r'/path/to.h5/file/test.h5'\n",
    "sample = mio.load(\"/media/daisuke-ido/Seagate Expansion Drive/Gill_Tapestri/data/No4771_DNA_Protein.dna+protein.h5\", raw=False, apply_filter=True) \n",
    "#keep raw always at False; if raw = True ALL barcodes will be loaded (not just cell assoc barcodes)\n",
    "#keep apply_filter at True unless you can't detect an expected (target) variant"
   ]
  },
  {
   "cell_type": "code",
   "execution_count": null,
   "metadata": {},
   "outputs": [],
   "source": [
    "#import graph_objects from the plotly package to be able to save and display figures when saving the notebook in HTML.\n",
    "import plotly.graph_objects as go"
   ]
  },
  {
   "cell_type": "markdown",
   "metadata": {},
   "source": [
    "All the interactive plotting functions return a plotly figure. In case the layout or the color\n",
    "scheme is not suitable for your data type, they can be changed before creating the final figure.\n",
    "\n",
    "The color for the plots are store either in the individual traces or the layout attributes of the plotly figure.\n",
    "\n",
    "Mosaic also contains a list of colors that can be used to customize the plots."
   ]
  },
  {
   "cell_type": "code",
   "execution_count": null,
   "metadata": {},
   "outputs": [],
   "source": [
    "# Import the colors\n",
    "from missionbio.mosaic.constants import COLORS\n",
    "\n",
    "# additional color palettes: https://seaborn.pydata.org/tutorial/color_palettes.html\n",
    "\n",
    "# Plot the first few colors\n",
    "import seaborn as sns\n",
    "sns.palplot(COLORS[:40])\n"
   ]
  },
  {
   "cell_type": "code",
   "execution_count": null,
   "metadata": {},
   "outputs": [],
   "source": [
    "help(sns.color_palette)"
   ]
  },
  {
   "cell_type": "code",
   "execution_count": null,
   "metadata": {},
   "outputs": [],
   "source": [
    "# Alternatively plot another palette\n",
    "\n",
    "sns.palplot(sns.color_palette(\"magma\", n_colors=20))"
   ]
  },
  {
   "cell_type": "code",
   "execution_count": null,
   "metadata": {},
   "outputs": [],
   "source": [
    "#hex codes\n",
    "sns.color_palette(\"viridis\", n_colors=20).as_hex()"
   ]
  },
  {
   "cell_type": "markdown",
   "metadata": {},
   "source": [
    "### Data structure"
   ]
  },
  {
   "cell_type": "markdown",
   "metadata": {},
   "source": [
    "    Dna, Cnv, and Protein are sub classes of the Assay class\n",
    "    The information is stored in four ways, and the user\n",
    "    can change each of those\n",
    "\n",
    "    1. metadata (add_metadata / del_metadata):\n",
    "        dictionary containing metrics of the assay\n",
    "\n",
    "    2. row_attrs (add_row_attr / del_row_attr):\n",
    "        dictionary which contains 'barcode' as one of\n",
    "        the keys. All the values must be of the same\n",
    "        length i.e. match the number of barcodes\n",
    "        This is the attribute where 'label', 'pca',\n",
    "        and 'umap' values are added\n",
    "\n",
    "    3. col_attrs (add_col_attr / del_col_attr):\n",
    "        dictionary which contains 'ids' as one of\n",
    "        the keys. All the values must be of the same\n",
    "        length i.e. match the number ids\n",
    "        'ids' contains variants for DNA assays\n",
    "        and anitobides for Protein assays\n",
    "\n",
    "    4. layers (add_layer / del_layer):\n",
    "        dictionary containing 'read_counts' as one of \n",
    "        the metrics. All the values have the shape\n",
    "        (num barcodes) x (num ids). This is the attribute\n",
    "        where 'normalized_counts' will be added\n",
    "\n",
    "    Sample holds the Dna and Protein information\n",
    "    \n",
    "\n"
   ]
  },
  {
   "cell_type": "code",
   "execution_count": null,
   "metadata": {},
   "outputs": [],
   "source": [
    "sample.protein"
   ]
  },
  {
   "cell_type": "code",
   "execution_count": null,
   "metadata": {},
   "outputs": [],
   "source": [
    "sample.dna"
   ]
  },
  {
   "cell_type": "code",
   "execution_count": null,
   "metadata": {},
   "outputs": [],
   "source": [
    "sample.dna.metadata"
   ]
  },
  {
   "cell_type": "code",
   "execution_count": null,
   "metadata": {},
   "outputs": [],
   "source": [
    "#data frame rownames, eg protein\n",
    "sample.protein.row_attrs"
   ]
  },
  {
   "cell_type": "code",
   "execution_count": null,
   "metadata": {},
   "outputs": [],
   "source": [
    "#data frame column names; eg protein\n",
    "sample.protein.ids()"
   ]
  },
  {
   "cell_type": "code",
   "execution_count": null,
   "metadata": {},
   "outputs": [],
   "source": [
    "#object layers, eg dna; comparable to Tapestri Insights Advanced Filters \n",
    "sample.dna.layers"
   ]
  },
  {
   "cell_type": "markdown",
   "metadata": {},
   "source": [
    "### DNA Analysis"
   ]
  },
  {
   "cell_type": "markdown",
   "metadata": {},
   "source": [
    "<b>Topics covered</b><br>\n",
    "1. Whitelist of variants\n",
    "2. Manually selecting variants"
   ]
  },
  {
   "cell_type": "markdown",
   "metadata": {},
   "source": [
    "#### Basic filtering"
   ]
  },
  {
   "cell_type": "markdown",
   "metadata": {},
   "source": [
    "    Many filtering options are available\n",
    "    use the documentation shared earlier,\n",
    "    or the help() function to get the same\n",
    "    information here"
   ]
  },
  {
   "cell_type": "code",
   "execution_count": null,
   "metadata": {},
   "outputs": [],
   "source": [
    "#note any function's parameters and their default values can be looked up via the help function. \n",
    "#Here the function is filter_variants\n",
    "#For additional information re: Advanded Filters visit \n",
    "#https://support.missionbio.com/hc/en-us/articles/360047303654-How-do-the-Advanced-Filters-work-\n",
    "help(sample.dna.filter_variants)"
   ]
  },
  {
   "cell_type": "code",
   "execution_count": null,
   "metadata": {},
   "outputs": [],
   "source": [
    "# Filter variants\n",
    "# Comparable to TI v2.2 Advanced Filters\n",
    "#Difference: min_std (based on VAF), leave max_vaf at 100 at all times\n",
    "\n",
    "#define dna_vars variable\n",
    "dna_vars = sample.dna.filter_variants()\n",
    "#output\n",
    "dna_vars"
   ]
  },
  {
   "cell_type": "code",
   "execution_count": null,
   "metadata": {},
   "outputs": [],
   "source": [
    "# Check the number of filtered variants\n",
    "len(dna_vars)"
   ]
  },
  {
   "cell_type": "code",
   "execution_count": null,
   "metadata": {},
   "outputs": [],
   "source": [
    "# adjust filters if needed\n",
    "#overwriting dna_vars with adjusted filters\n",
    "\n",
    "#note if you want to work exclusively with whitelisted variants, set one filter to 100, e.g., min_std=100 \n",
    "#--> this will create an empty array\n",
    "dna_vars = sample.dna.filter_variants(min_dp=10, min_gq=30, vaf_ref=5, vaf_hom=95, min_prct_cells=50, min_mut_prct_cells=1) \n",
    "#output\n",
    "dna_vars"
   ]
  },
  {
   "cell_type": "code",
   "execution_count": null,
   "metadata": {},
   "outputs": [],
   "source": [
    "len(dna_vars)"
   ]
  },
  {
   "cell_type": "markdown",
   "metadata": {},
   "source": [
    "#### Whitelist"
   ]
  },
  {
   "cell_type": "markdown",
   "metadata": {},
   "source": [
    "    Simply appnding the whitelist to the list of filtered\n",
    "    variants is sufficient to then select the variants\n",
    "    using the slice notation\n",
    "    \n",
    "    i.e. sample.dna[{list of barcodes}, {list of ids}]"
   ]
  },
  {
   "cell_type": "code",
   "execution_count": null,
   "metadata": {},
   "outputs": [],
   "source": [
    "#based on TI; may be copy/pasted from TI; ensure correct nomenclature\n",
    "#whitelist = [\"chr7:6398156,3:A/G,\"\"chr7:147,674978:A/G\",\"chr7:128371,206:G/A\"]\n",
    "\n",
    "#ADD VARIANTS OF INTEREST HERE\n",
    "\n",
    "whitelist = []"
   ]
  },
  {
   "cell_type": "code",
   "execution_count": null,
   "metadata": {},
   "outputs": [],
   "source": [
    "#update final variant list\n",
    "final_vars = list(dna_vars) + whitelist"
   ]
  },
  {
   "cell_type": "code",
   "execution_count": null,
   "metadata": {},
   "outputs": [],
   "source": [
    "len(final_vars)"
   ]
  },
  {
   "cell_type": "code",
   "execution_count": null,
   "metadata": {},
   "outputs": [],
   "source": [
    "#dimensionality of sample.dna dataframe\n",
    "# first number = number of cells (rows), second number = number of pre-filtered variants (columns) as in vcf.gz file\n",
    "sample.dna.shape"
   ]
  },
  {
   "cell_type": "code",
   "execution_count": null,
   "metadata": {},
   "outputs": [],
   "source": [
    "# Subsetting sample.dna based on reduced variant (column) list. Selecting all cells and final variants\n",
    "sample.dna = sample.dna[sample.dna.barcodes(), final_vars]"
   ]
  },
  {
   "cell_type": "code",
   "execution_count": null,
   "metadata": {},
   "outputs": [],
   "source": [
    "# Check the shape i.e. (Number of barcodes, number of ids)\n",
    "# of the final filtered dna object\n",
    "sample.dna.shape"
   ]
  },
  {
   "cell_type": "markdown",
   "metadata": {},
   "source": [
    "#### Manual variant selection"
   ]
  },
  {
   "cell_type": "markdown",
   "metadata": {},
   "source": [
    "    Heatmaps are interactive. Clicking on it selects\n",
    "    the corresponding id whose value is stored in the\n",
    "    `selected_ids` attribute of the object\n",
    "    \n",
    "    eg. sample.dna.selected_ids"
   ]
  },
  {
   "cell_type": "code",
   "execution_count": null,
   "metadata": {},
   "outputs": [],
   "source": [
    "help(sample.dna.get_annotations)"
   ]
  },
  {
   "cell_type": "code",
   "execution_count": null,
   "metadata": {},
   "outputs": [],
   "source": [
    "#Add annotation to the SNV using varsome (adds gene name, AA changes to variants)\n",
    "#import missionbio.mosaic.utils as mutils\n",
    "ann_ids = sample.dna.get_annotations()  # Run this on a filtered DNA sample - too many variants are not handled correctly by the method\n",
    "sample.dna.add_col_attr('id', ann_ids)"
   ]
  },
  {
   "cell_type": "code",
   "execution_count": null,
   "metadata": {},
   "outputs": [],
   "source": [
    "#annotations now added to the variants\n",
    "sample.dna.ids()"
   ]
  },
  {
   "cell_type": "code",
   "execution_count": null,
   "metadata": {},
   "outputs": [],
   "source": [
    "help(sample.dna.stripplot)"
   ]
  },
  {
   "cell_type": "code",
   "execution_count": null,
   "metadata": {},
   "outputs": [],
   "source": [
    "## First diagnostic plot to evaluate variant quality. attribute or colorby arguments may be changed\n",
    "#adding go.Figure(fig) command so that the figure is saved when exporting the notebook to HTML\n",
    "#adding write_image function saves the picture in high-res (commented out below)\n",
    "fig = sample.dna.stripplot(attribute='AF_MISSING', colorby='NGT')\n",
    "go.Figure(fig)\n",
    "#fig.write_image(\"stripplot_example.png\") # change resolution or file type via help(fig.write_image)"
   ]
  },
  {
   "cell_type": "code",
   "execution_count": null,
   "metadata": {},
   "outputs": [],
   "source": [
    "sample.dna.filter_variants()"
   ]
  },
  {
   "cell_type": "code",
   "execution_count": null,
   "metadata": {},
   "outputs": [],
   "source": [
    "#2nd diagnostic plot: use this heatmap to (de)-select variants with little variance \n",
    "#(e.g., germline mut w/ identical genotype across all cells) to be discarded later\n",
    "fig = sample.dna.heatmap(attribute=\"\")\n",
    "go.Figure(fig)"
   ]
  },
  {
   "cell_type": "code",
   "execution_count": null,
   "metadata": {},
   "outputs": [],
   "source": [
    "#redraw w/ GQ values\n",
    "#this heatmap may also be used to select variants that may display low quality in majority of cells.\n",
    "#Don't use \"fig =\" as the heatmap won't become responsive for variant selection.\n",
    "#variants may be selected by clicking on the heatmap (variant name changes color from black to red)\n",
    "sample.dna.heatmap(attribute='GQ')\n"
   ]
  },
  {
   "cell_type": "code",
   "execution_count": null,
   "metadata": {},
   "outputs": [],
   "source": [
    "#array that lists all variants that were selected in the heatmap\n",
    "sample.dna.selected_ids"
   ]
  },
  {
   "cell_type": "code",
   "execution_count": null,
   "metadata": {},
   "outputs": [],
   "source": [
    "#subsetting the sample.dna variable by removing all selected variants\n",
    "#sample.dna = sample.dna.drop(sample.dna.selected_ids)"
   ]
  },
  {
   "cell_type": "code",
   "execution_count": null,
   "metadata": {},
   "outputs": [],
   "source": [
    "#confirm new # of columns (variables)\n",
    "sample.dna.shape"
   ]
  },
  {
   "cell_type": "code",
   "execution_count": null,
   "metadata": {},
   "outputs": [],
   "source": [
    "#redraw heatmap with variants removed\n",
    "sample.dna.heatmap(attribute='NGT')"
   ]
  },
  {
   "cell_type": "markdown",
   "metadata": {},
   "source": [
    "#### Clustering"
   ]
  },
  {
   "cell_type": "markdown",
   "metadata": {},
   "source": [
    "    DNA has a custom clustering method called `find_clones`\n",
    "    \n",
    "    It projects the data on a UMAP and then performs\n",
    "    dbscan to identify unique clusters, which are then\n",
    "    merged in case they were formed due to missing\n",
    "    information"
   ]
  },
  {
   "cell_type": "code",
   "execution_count": null,
   "metadata": {},
   "outputs": [],
   "source": [
    "help(sample.dna.find_clones)"
   ]
  },
  {
   "cell_type": "code",
   "execution_count": null,
   "metadata": {},
   "outputs": [],
   "source": [
    "#clustering method #1 - useful for high-feature/dimensional space (e.g., 10+ variants used for downstream analysis)\n",
    "\n",
    "#standard method uses 2 sequential dimension reduction techniques: PCA on filtered data frame (all cells + filtered variant)\n",
    "#followed by UMAP\n",
    "#on transformed PC dataframe --> only suggested for high-dimensional data\n",
    "#if only 1-5 variants are in your sample.dna (typical for most primary samples)\n",
    "#use a different method to cluster (see further below)\n",
    "sample.dna.find_clones()"
   ]
  },
  {
   "cell_type": "code",
   "execution_count": null,
   "metadata": {},
   "outputs": [],
   "source": [
    "#verify that another row attribute was added = umap, which corresponds to a cluster number for each cell (barcode)\n",
    "sample.dna.row_attrs"
   ]
  },
  {
   "cell_type": "code",
   "execution_count": null,
   "metadata": {},
   "outputs": [],
   "source": [
    "fig = sample.dna.scatterplot(attribute='umap', colorby='label')\n",
    "go.Figure(fig)"
   ]
  },
  {
   "cell_type": "code",
   "execution_count": null,
   "metadata": {},
   "outputs": [],
   "source": [
    "#display column names so you can color code umap not on labels, but on variant specific data (e.g., AF) \n",
    "sample.dna.ids()"
   ]
  },
  {
   "cell_type": "code",
   "execution_count": null,
   "metadata": {},
   "outputs": [],
   "source": [
    "#replot umap with variant information\n",
    "fig = sample.dna.scatterplot(attribute='umap', colorby='NGT',features=sample.dna.ids())\n",
    "go.Figure(fig)"
   ]
  },
  {
   "cell_type": "code",
   "execution_count": null,
   "metadata": {},
   "outputs": [],
   "source": [
    "#remove umap attribute in order to follow up with an alternative clustering method\n",
    "sample.dna.del_row_attr('umap')"
   ]
  },
  {
   "cell_type": "code",
   "execution_count": null,
   "metadata": {},
   "outputs": [],
   "source": [
    "#clustering method #2\n",
    "\n",
    "#cluster w/ alternative method compared to find_clones()\n",
    "#here you can specify and customize arguments in each step that is integrated in the find_clones() f(x) \n",
    "#1 run PCA on data frame using AF_MISSING for instance\n",
    "#(note, AF_MISSING includes -50 values for all 0 values for which the data was filtered and is missing)\n",
    "sample.dna.run_pca(components=8, attribute='AF_MISSING',show_plot=True) # component # should equal # of PF variants\n",
    "# Assess 'elbow' plot and determine number of PCs where the distribution starts to plateau. Note that PC1 = 0 in the plot"
   ]
  },
  {
   "cell_type": "code",
   "execution_count": null,
   "metadata": {},
   "outputs": [],
   "source": [
    "#rerun PCA w/ optimal PC number based on elbow plot analysis\n",
    "sample.dna.run_pca(components=4, attribute='AF_MISSING')"
   ]
  },
  {
   "cell_type": "code",
   "execution_count": null,
   "metadata": {},
   "outputs": [],
   "source": [
    "#run UMAP on top of the newly created PC dataframe. \n",
    "#See https://jlmelville.github.io/uwot/abparams.html for appropriate spread/min_dist values\n",
    "sample.dna.run_umap(attribute='pca', min_dist=0.2, spread=1.5, random_state=40)"
   ]
  },
  {
   "cell_type": "code",
   "execution_count": null,
   "metadata": {},
   "outputs": [],
   "source": [
    "#visualize data and cluster it using different methods\n",
    "sample.dna.cluster(attribute='umap', method='dbscan')#, eps=0.8)"
   ]
  },
  {
   "cell_type": "code",
   "execution_count": null,
   "metadata": {},
   "outputs": [],
   "source": [
    "help(sample.dna.cluster)"
   ]
  },
  {
   "cell_type": "code",
   "execution_count": null,
   "metadata": {},
   "outputs": [],
   "source": [
    "#replot UMAP projection w/ alternative clustering results\n",
    "fig = sample.dna.scatterplot(attribute='umap', colorby='label')\n",
    "go.Figure(fig)"
   ]
  },
  {
   "cell_type": "code",
   "execution_count": null,
   "metadata": {},
   "outputs": [],
   "source": [
    "help(sample.dna.count) "
   ]
  },
  {
   "cell_type": "code",
   "execution_count": null,
   "metadata": {},
   "outputs": [],
   "source": [
    "#clustering method #3\n",
    "\n",
    "#a third alternative method to cluster your data. recommended for 1-5 variants\n",
    "#cluster with TI v2.2 count-based method \n",
    "#note, the umap attr. does not have to be removed a prior as the count based clustering does not create a umap attr.\n",
    "\n",
    "#The created table includes a 'score' column that intends to help with the identification of allele dropout (ADO) clones\n",
    "# Scores greater than 0.8 are typically considered artifacts (ADO) and may be labeled as such to be discarded.\n",
    "# Clones are ordered based on their size (1=largest clone, 2=second largest clone, etc)\n",
    "sample.dna.count(features=sample.dna.ids(),group_missing=True,min_clone_size=0.9,layer=\"NGT_FILTERED\")"
   ]
  },
  {
   "cell_type": "code",
   "execution_count": null,
   "metadata": {},
   "outputs": [],
   "source": [
    "#plot heatmap using NGT\n",
    "fig = sample.dna.heatmap(attribute='NGT_FILTERED')\n",
    "go.Figure(fig)\n",
    "#fig.write_image(\"heatmap.snps.variants.png\")"
   ]
  },
  {
   "cell_type": "code",
   "execution_count": null,
   "metadata": {},
   "outputs": [],
   "source": [
    "#plot heatmap using NGT w/ barcodes ordered based on sample\n",
    "fig = sample.dna.heatmap(attribute='NGT',splitby=\"sample_name\")\n",
    "go.Figure(fig)\n",
    "#fig.write_image(\"heatmap.snps.variants.png\")"
   ]
  },
  {
   "cell_type": "code",
   "execution_count": null,
   "metadata": {},
   "outputs": [],
   "source": [
    "help(sns.color_palette)"
   ]
  },
  {
   "cell_type": "code",
   "execution_count": null,
   "metadata": {},
   "outputs": [],
   "source": [
    "sns.palplot(sns.color_palette(\"viridis\", n_colors=20))"
   ]
  },
  {
   "cell_type": "code",
   "execution_count": null,
   "metadata": {},
   "outputs": [],
   "source": [
    "vir20 = sns.color_palette(\"viridis\", n_colors=20).as_hex()\n",
    "vir20"
   ]
  },
  {
   "cell_type": "code",
   "execution_count": null,
   "metadata": {},
   "outputs": [],
   "source": [
    "vir20[0]"
   ]
  },
  {
   "cell_type": "code",
   "execution_count": null,
   "metadata": {},
   "outputs": [],
   "source": [
    "# In case of the DNA heatmap and scatterplot the colors are\n",
    "# stored in the layout.coloraxis.colorscale attribute.\n",
    "\n",
    "# This value must be updated to customize the plot.\n",
    "\n",
    "fig.layout.coloraxis.colorscale"
   ]
  },
  {
   "cell_type": "code",
   "execution_count": null,
   "metadata": {},
   "outputs": [],
   "source": [
    "# Assuming these are new desired colors\n",
    "# NGT=0 (WT) - blue\n",
    "# NGT=1 (HET) - orange\n",
    "# NGT=2 (HOM) - red\n",
    "# NGT=3 (missing) - black\n",
    "\n",
    "# Additional information re: color palettes here: https://seaborn.pydata.org/tutorial/color_palettes.html\n",
    "\n",
    "wt_col = vir20[0]\n",
    "het_col = vir20[10]\n",
    "hom_col = vir20[19]\n",
    "miss_col = COLORS[19]\n",
    "\n",
    "sns.palplot([wt_col, het_col, hom_col, miss_col])"
   ]
  },
  {
   "cell_type": "code",
   "execution_count": null,
   "metadata": {},
   "outputs": [],
   "source": [
    "# Update the coloraxis to make a plot with the new colors\n",
    "\n",
    "new_colors = [(0 / 4, wt_col), (1 / 4, wt_col),\n",
    "              (1 / 4, het_col), (2 / 4, het_col),\n",
    "              (2 / 4, hom_col), (3 / 4, hom_col),\n",
    "              (3 / 4, miss_col), (4 / 4, miss_col)]\n",
    "\n",
    "fig.layout.coloraxis.colorscale = new_colors\n",
    "fig"
   ]
  },
  {
   "cell_type": "code",
   "execution_count": null,
   "metadata": {},
   "outputs": [],
   "source": [
    "# Show 3 heatmaps side-by-side to help with cluster interpretation and help identify potential ADO clones qualitatively\n",
    "# First get the order of ids and barcodes\n",
    "dna = sample.dna\n",
    "sortby = 'NGT'\n",
    "bars = dna.clustered_barcodes(orderby=sortby)\n",
    "ids = dna.clustered_ids(orderby=sortby)\n",
    "# Draw the three heatmaps as before\n",
    "fig_ngt = dna.heatmap(attribute='NGT', bars_order=bars, features=ids)\n",
    "fig_dp = dna.heatmap(attribute='AF_MISSING', bars_order=bars, features=ids)\n",
    "fig_gq = dna.heatmap(attribute='GQ', bars_order=bars, features=ids)\n",
    "# Now draw them in one plot\n",
    "import missionbio.mosaic.utils as mutils\n",
    "import matplotlib.pyplot as plt\n",
    "# Use matplotlib for the plot\n",
    "# Change figsize to make it larger or smaller\n",
    "# In the jupyter notebook, you might have to double click the image to zoom in\n",
    "fig, axs = plt.subplots(1, 3, figsize=(30, 10))\n",
    "mutils.static_fig(fig_ngt, ax=axs[0])\n",
    "mutils.static_fig(fig_dp, ax=axs[1])\n",
    "mutils.static_fig(fig_gq, ax=axs[2])\n",
    "# Remove the borders\n",
    "axs[0].axis('off')\n",
    "axs[1].axis('off')\n",
    "axs[2].axis('off')\n",
    "plt.tight_layout()\n",
    "# Show the plot\n",
    "plt.show()"
   ]
  },
  {
   "cell_type": "code",
   "execution_count": null,
   "metadata": {},
   "outputs": [],
   "source": [
    "#plot heatmap using NGT\n",
    "fig = sample.dna.heatmap(attribute='NGT_FILTERED')\n",
    "go.Figure(fig)\n",
    "#fig.write_image(\"heatmap.snps.variants.png\")"
   ]
  },
  {
   "cell_type": "code",
   "execution_count": null,
   "metadata": {},
   "outputs": [],
   "source": [
    "#rename clusters based on heatmap representation. rename clusters identically  that are to be merged into one and discarded (e.g. FP)\n",
    "#sample.dna.rename_labels(\n",
    "#  {\n",
    "#    '1': 'TET2/WT1_916',\n",
    "#    '2': 'FP',\n",
    "#    '3': 'FP',\n",
    "#    '4': 'TET2',\n",
    "#    '5': 'TET2/WT1_914',\n",
    "#    '6': 'TET2/WT1_916/GATA2',\n",
    "#    '7': 'TET2/WT1_914/WT1_944',\n",
    "#    '8': 'TET2/WT1_914/FLT3_251',\n",
    "#    'missing': 'FP', #false positive\n",
    "#    'small': 'FP',\n",
    "#  }\n",
    "#)"
   ]
  },
  {
   "cell_type": "code",
   "execution_count": null,
   "metadata": {},
   "outputs": [],
   "source": [
    "#redraw heatmap  w/ new labels\n",
    "fig = sample.dna.heatmap(attribute='NGT')\n",
    "#fig.layout.coloraxis.colorscale = new_colors\n",
    "go.Figure(fig)\n",
    "#fig.write_image(\"heatmap.snps.variants.png\")"
   ]
  },
  {
   "cell_type": "code",
   "execution_count": null,
   "metadata": {},
   "outputs": [],
   "source": [
    "#remove barcodes (clones) from data based on renamed labels\n",
    "#fp_barcodes = sample.dna.barcodes(\"FP\")\n",
    "#sample.dna = sample.dna.drop(fp_barcodes)\n",
    "#set(sample.dna.get_labels()) "
   ]
  },
  {
   "cell_type": "code",
   "execution_count": null,
   "metadata": {},
   "outputs": [],
   "source": [
    "#redraw heatmap\n",
    "fig = sample.dna.heatmap(attribute='NGT')\n",
    "go.Figure(fig)\n",
    "#fig.write_image(\"heatmap.snps.variants.png\")"
   ]
  },
  {
   "cell_type": "code",
   "execution_count": null,
   "metadata": {},
   "outputs": [],
   "source": [
    "#redraw heatmap w/ new colorcode and based on samples\n",
    "fig = sample.dna.heatmap(attribute='NGT',splitby=\"sample_name\")\n",
    "fig.layout.coloraxis.colorscale = new_colors\n",
    "go.Figure(fig)\n",
    "#fig.write_image(\"heatmap.snps.variants.png\")"
   ]
  },
  {
   "cell_type": "code",
   "execution_count": null,
   "metadata": {},
   "outputs": [],
   "source": [
    "#evaluate new total number of cells after above-filtering\n",
    "sample.dna.shape"
   ]
  },
  {
   "cell_type": "code",
   "execution_count": null,
   "metadata": {},
   "outputs": [],
   "source": [
    "#compared to original cell number\n",
    "sample.dna.shape"
   ]
  },
  {
   "cell_type": "markdown",
   "metadata": {},
   "source": [
    "#### Conclusion"
   ]
  },
  {
   "cell_type": "markdown",
   "metadata": {},
   "source": [
    "    1. Basic filtering of barcodes ids demonstrated\n",
    "    2. Basic DNA filtering functionality showcased"
   ]
  },
  {
   "cell_type": "markdown",
   "metadata": {},
   "source": [
    "### CNV Analysis"
   ]
  },
  {
   "cell_type": "markdown",
   "metadata": {},
   "source": [
    "Preliminary heatmap of CNV shows that there could be two clusters\n",
    "\n",
    "<b>Topics covered</b>\n",
    "1. Down sampling options and their effects"
   ]
  },
  {
   "cell_type": "code",
   "execution_count": null,
   "metadata": {},
   "outputs": [],
   "source": [
    "help(sample.cnv.scatterplot)"
   ]
  },
  {
   "cell_type": "markdown",
   "metadata": {},
   "source": [
    "#### PCA options"
   ]
  },
  {
   "cell_type": "markdown",
   "metadata": {},
   "source": [
    "    Here the UMAP options are kept constant\n",
    "    The only parameter in PCA is the number of components\n",
    "\n",
    "    Here we see how to determine this value, and the effect\n",
    "    when we deviate from this value"
   ]
  },
  {
   "cell_type": "code",
   "execution_count": null,
   "metadata": {},
   "outputs": [],
   "source": [
    "#Filtering Amplicons\n",
    "# This returns the reads in each cell and amplicon\n",
    "reads = sample.cnv.get_attribute('read_counts', constraint='row+col')\n",
    "reads"
   ]
  },
  {
   "cell_type": "code",
   "execution_count": null,
   "metadata": {},
   "outputs": [],
   "source": [
    "# Only amplicons found in more than half the cells are analyzed \n",
    "# The other amplicons are dropped.\n",
    "working_amplicons = (reads.median() > 0).values\n",
    "sample.cnv = sample.cnv[:, working_amplicons]"
   ]
  },
  {
   "cell_type": "code",
   "execution_count": null,
   "metadata": {},
   "outputs": [],
   "source": [
    "# We are now left with fewer amplicons\n",
    "sample.cnv.shape"
   ]
  },
  {
   "cell_type": "code",
   "execution_count": null,
   "metadata": {},
   "outputs": [],
   "source": [
    "# only valid barcodes from DNA and store at sample.cnv\n",
    "sample.cnv = sample.cnv[sample.dna.barcodes(),:]"
   ]
  },
  {
   "cell_type": "code",
   "execution_count": null,
   "metadata": {},
   "outputs": [],
   "source": [
    "sample.cnv.shape"
   ]
  },
  {
   "cell_type": "code",
   "execution_count": null,
   "metadata": {},
   "outputs": [],
   "source": [
    "sample.cnv.normalize_reads()\n",
    "#fig = sample.cnv.heatmap(attribute='normalized_counts')\n",
    "#go.Figure(fig)\n",
    "#fig.write_image(\"heatmap.amplicons.cnv.png\")"
   ]
  },
  {
   "cell_type": "code",
   "execution_count": null,
   "metadata": {},
   "outputs": [],
   "source": [
    "help(sample.cnv.normalize_reads)"
   ]
  },
  {
   "cell_type": "code",
   "execution_count": null,
   "metadata": {},
   "outputs": [],
   "source": [
    "# Assuming WT cells are diploid for all the amplicons,\n",
    "# we can compute the ploidy of the other cell lines as follows\n",
    "\n",
    "#sample.cnv.compute_ploidy(diploid_cells=sample.dna.barcodes('TET2'))"
   ]
  },
  {
   "cell_type": "code",
   "execution_count": null,
   "metadata": {},
   "outputs": [],
   "source": [
    "# Assign the DNA labels to the CNV object\n",
    "# We want to ensure the labels are the same\n",
    "\n",
    "sample.cnv.set_labels(sample.dna.get_labels())\n",
    "sample.cnv.set_palette(sample.dna.get_palette())"
   ]
  },
  {
   "cell_type": "code",
   "execution_count": null,
   "metadata": {},
   "outputs": [],
   "source": [
    "# Heatmap with the features ordered chromosomal location\n",
    "\n",
    "#fig = sample.cnv.heatmap('ploidy', features='positions')\n",
    "#fig"
   ]
  },
  {
   "cell_type": "code",
   "execution_count": null,
   "metadata": {},
   "outputs": [],
   "source": [
    "# Scale the figure width and plot as a static image.\n",
    "# Double click on the plot to zoom-in and improve the resolution\n",
    "\n",
    "import missionbio.mosaic.utils as mutils\n",
    "\n",
    "fig = sample.cnv.heatmap('ploidy', features='genes')\n",
    "fig.layout.width = 1600\n",
    "mutils.static_fig(fig, figsize=(20, 20))"
   ]
  },
  {
   "cell_type": "code",
   "execution_count": null,
   "metadata": {},
   "outputs": [],
   "source": [
    "# Heatmap for a subset of the chromosomes\n",
    "\n",
    "fig = sample.cnv.heatmap('ploidy', features=['7', '17', '11'])\n",
    "fig"
   ]
  },
  {
   "cell_type": "code",
   "execution_count": null,
   "metadata": {},
   "outputs": [],
   "source": [
    "# Heatmap with the features grouped by the genes\n",
    "# The first time this runs, it fetches the gene names from ensembl\n",
    "# The annotation can also be fetched using using sample.cnv.get_gene_names()\n",
    "# The plots can also be smoothed using a moving average with the convolve parameter\n",
    "\n",
    "fig = sample.cnv.heatmap('ploidy', features='genes', convolve=2)\n",
    "fig"
   ]
  },
  {
   "cell_type": "code",
   "execution_count": null,
   "metadata": {},
   "outputs": [],
   "source": [
    "# Change the color scale to \"magma\" - other suitable options might be \"viridis\", \"plasma\", \"blues\", \"blues_r\"...\n",
    "fig.layout.coloraxis.colorscale = 'magma'\n",
    "\n",
    "# Update the separating lines to be black\n",
    "for shape in fig.layout.shapes:\n",
    "    shape.line.color = '#000000'\n",
    "\n",
    "# Set the minimum value to 0 and maximum value of ploidy to 2\n",
    "fig.layout.coloraxis.cmax = 2\n",
    "fig.layout.coloraxis.cmin = 0\n",
    "\n",
    "fig"
   ]
  },
  {
   "cell_type": "code",
   "execution_count": null,
   "metadata": {},
   "outputs": [],
   "source": [
    "# Heatmap for a subset of the genes\n",
    "# Change the color scale to \"magma\" - other suitable options might be \"viridis\", \"plasma\", \"blues\", \"blues_r\"...\n",
    "fig = sample.cnv.heatmap('ploidy', features=['EZH2', 'BRAF', 'KMT2A','SAMD9','SAMD9L'])\n",
    "fig.layout.coloraxis.colorscale = 'magma'\n",
    "\n",
    "# Update the separating lines to be black\n",
    "for shape in fig.layout.shapes:\n",
    "    shape.line.color = '#000000'\n",
    "\n",
    "# Set the minimum value to 0 and maximum value of ploidy to 2\n",
    "fig.layout.coloraxis.cmax = 2\n",
    "fig.layout.coloraxis.cmin = 0\n",
    "fig"
   ]
  },
  {
   "cell_type": "code",
   "execution_count": null,
   "metadata": {},
   "outputs": [],
   "source": [
    "# WT clone cells normalized to ploidy = 2 by default\n",
    "sample.cnv.plot_ploidy('TET2')"
   ]
  },
  {
   "cell_type": "code",
   "execution_count": null,
   "metadata": {},
   "outputs": [],
   "source": [
    "#evaluate ploidy for other genotype-based defined clones by updating the code\n",
    "sample.cnv.plot_ploidy('TET2/WT1_914')"
   ]
  },
  {
   "cell_type": "code",
   "execution_count": null,
   "metadata": {},
   "outputs": [],
   "source": [
    "#evaluate ploidy for other genotype-based defined clones by updating the code\n",
    "sample.cnv.plot_ploidy('TET2/WT1_916/GATA2')"
   ]
  },
  {
   "cell_type": "code",
   "execution_count": null,
   "metadata": {},
   "outputs": [],
   "source": [
    "sample.cnv.col_attrs"
   ]
  },
  {
   "cell_type": "code",
   "execution_count": null,
   "metadata": {},
   "outputs": [],
   "source": [
    "#if genotype-based clustering does not yield useful CNV data, cluster cnv data (reads) unbiased using the \n",
    "# PCA/UMAP clustering\n",
    "sample.cnv.normalize_reads()\n",
    "sample.cnv.run_pca(components=300, attribute='normalized_counts',show_plot=True)"
   ]
  },
  {
   "cell_type": "code",
   "execution_count": null,
   "metadata": {},
   "outputs": [],
   "source": [
    "#if genotype-based clustering does not yield useful CNV data, cluster cnv data (reads) unbiased using the \n",
    "# PCA/UMAP clustering (Note, all cell barcodes are now used, including cells that were previously filtered out\n",
    "#due to incomplete genotype data)\n",
    "\n",
    "sample.cnv.run_pca(components=50, attribute='normalized_counts',show_plot=False)"
   ]
  },
  {
   "cell_type": "code",
   "execution_count": null,
   "metadata": {},
   "outputs": [],
   "source": [
    "#run UMAP on top of the newly created PC dataframe. \n",
    "#See https://jlmelville.github.io/uwot/abparams.html for appropriate spread/min_dist values\n",
    "sample.cnv.run_umap(attribute='pca')#, min_dist=0.2, spread=1.5, random_state=40)\n",
    "#visualize data and cluster it using different methods\n",
    "sample.cnv.cluster(attribute='umap', method='graph-community')#, eps=0.8)"
   ]
  },
  {
   "cell_type": "code",
   "execution_count": null,
   "metadata": {},
   "outputs": [],
   "source": [
    "fig = sample.cnv.scatterplot(attribute='umap',colorby='label')\n",
    "go.Figure(fig)\n"
   ]
  },
  {
   "cell_type": "code",
   "execution_count": null,
   "metadata": {},
   "outputs": [],
   "source": [
    "sample.cnv.row_attrs"
   ]
  },
  {
   "cell_type": "code",
   "execution_count": null,
   "metadata": {},
   "outputs": [],
   "source": [
    "fig = sample.cnv.scatterplot(attribute='umap',colorby='sample_name')\n",
    "go.Figure(fig)\n"
   ]
  },
  {
   "cell_type": "code",
   "execution_count": null,
   "metadata": {},
   "outputs": [],
   "source": [
    "sample.cnv.heatmap(attribute='normalized_counts')#,splitby='sample_name')"
   ]
  },
  {
   "cell_type": "code",
   "execution_count": null,
   "metadata": {},
   "outputs": [],
   "source": [
    "help(sample.cnv.heatmap)"
   ]
  },
  {
   "cell_type": "markdown",
   "metadata": {},
   "source": [
    "#### Conclusion"
   ]
  },
  {
   "cell_type": "markdown",
   "metadata": {},
   "source": [
    "    Given all other variables are kept constant\n",
    "\n",
    "    1. Too many PCA components may result in merging of clusters\n",
    "    2. Too few PCA component may result in splitting of clusters\n",
    "    3. The appropriate number of components can be determined using the elbow plot"
   ]
  },
  {
   "cell_type": "markdown",
   "metadata": {},
   "source": [
    "### Protein Analysis"
   ]
  },
  {
   "cell_type": "markdown",
   "metadata": {},
   "source": [
    "<b>Topics covered</b>\n",
    "1. Basic workflow\n",
    "2. Custom clustering eg. selection on biaxial plot\n",
    "3. Custom methods by adding layers"
   ]
  },
  {
   "cell_type": "markdown",
   "metadata": {},
   "source": [
    "#### Basic workflow"
   ]
  },
  {
   "cell_type": "code",
   "execution_count": null,
   "metadata": {},
   "outputs": [],
   "source": [
    "help(sample.protein.normalize_reads)"
   ]
  },
  {
   "cell_type": "code",
   "execution_count": null,
   "metadata": {},
   "outputs": [],
   "source": [
    "# Clustering similar to \"cluster method #2\" of DNA clustering using genotypes (sample.dna)\n",
    "sample.protein.normalize_reads('CLR') \n",
    "# three different methods avlb: CLR = center-log-transformed here"
   ]
  },
  {
   "cell_type": "code",
   "execution_count": null,
   "metadata": {},
   "outputs": [],
   "source": [
    "sample.protein.run_pca(attribute='normalized_counts', components=45,show_plot=True) # components = 10 appropriate for 45-plex BL panel\n",
    "#select fewer number of components when analyzing custom AOC panels with 2-20."
   ]
  },
  {
   "cell_type": "code",
   "execution_count": null,
   "metadata": {},
   "outputs": [],
   "source": [
    "sample.protein.run_pca(attribute='normalized_counts', components=12, show_plot=True) # components = 10 appropriate for 45-plex BL panel\n",
    "#select fewer number of components when analyzing custom AOC panels with 2-20."
   ]
  },
  {
   "cell_type": "code",
   "execution_count": null,
   "metadata": {},
   "outputs": [],
   "source": [
    "#UMAPs rely on an initial randomization. \n",
    "#This leads to different projections every time. To address this, pass random_state to the run_umap method\n",
    "sample.protein.run_umap(attribute='pca',spread=2,min_dist=0.4,random_state=42)\n",
    "#See https://jlmelville.github.io/uwot/abparams.html for appropriate spread/min_dist values"
   ]
  },
  {
   "cell_type": "code",
   "execution_count": null,
   "metadata": {},
   "outputs": [],
   "source": [
    "sample.protein.cluster(attribute='umap', method='graph-community',k=100) \n",
    "# the higher the k value, the smaller the number of clones --> adjust if necessary"
   ]
  },
  {
   "cell_type": "code",
   "execution_count": null,
   "metadata": {},
   "outputs": [],
   "source": [
    "help(sample.protein.heatmap)"
   ]
  },
  {
   "cell_type": "code",
   "execution_count": null,
   "metadata": {},
   "outputs": [],
   "source": [
    "fig = sample.protein.heatmap(attribute='normalized_counts')\n",
    "go.Figure(fig)"
   ]
  },
  {
   "cell_type": "code",
   "execution_count": null,
   "metadata": {},
   "outputs": [],
   "source": [
    "#relabel clone names acccording to biology, combine clones by assigned identical names\n",
    "sample.protein.rename_labels(\n",
    "    {\n",
    "        '14': '',\n",
    "        '13': '',\n",
    "        '6': '',\n",
    "        '9': '',\n",
    "        '1': '',\n",
    "        '3': '',\n",
    "        '10': '',\n",
    "        '12': '',\n",
    "        '8': '',\n",
    "        '4': '',\n",
    "        '5': '',\n",
    "        '7': '',\n",
    "        '11': '',\n",
    "        '2': '',\n",
    "    }\n",
    ")"
   ]
  },
  {
   "cell_type": "code",
   "execution_count": null,
   "metadata": {},
   "outputs": [],
   "source": [
    "#run heatmap again w/ new labels\n",
    "fig = sample.protein.heatmap(attribute='normalized_counts')\n",
    "go.Figure(fig)"
   ]
  },
  {
   "cell_type": "code",
   "execution_count": null,
   "metadata": {},
   "outputs": [],
   "source": [
    "#UMAP\n",
    "fig = sample.protein.scatterplot(attribute='umap',colorby='label')\n",
    "go.Figure(fig)"
   ]
  },
  {
   "cell_type": "code",
   "execution_count": null,
   "metadata": {},
   "outputs": [],
   "source": [
    "#drop clones (barcodes) that need to be filtered. instead of overwriting sample.protein variable, we define new \n",
    "#variable sample.protein. Note if defining sample.protein to update the code in the subsequent steps.\n",
    "fp_barcodes2 = sample.protein.barcodes(\"FP\")\n",
    "sample.protein = sample.protein.drop(fp_barcodes2)\n",
    "set(sample.protein.get_labels())"
   ]
  },
  {
   "cell_type": "code",
   "execution_count": null,
   "metadata": {},
   "outputs": [],
   "source": [
    "#use only if no barcodes are removed by the above-listed command\n",
    "#sample.protein = sample.protein"
   ]
  },
  {
   "cell_type": "code",
   "execution_count": null,
   "metadata": {},
   "outputs": [],
   "source": [
    "#re-run heatmap with new filtered cells\n",
    "fig = sample.protein.heatmap(attribute='normalized_counts')\n",
    "go.Figure(fig)"
   ]
  },
  {
   "cell_type": "code",
   "execution_count": null,
   "metadata": {},
   "outputs": [],
   "source": [
    "sample.protein.ids() #use sample.protein.ids() alternatively"
   ]
  },
  {
   "cell_type": "code",
   "execution_count": null,
   "metadata": {},
   "outputs": [],
   "source": [
    "#remove AOCs that don't display any signal in any cells and overwrite sample.protein variable\n",
    "#sample.protein = sample.protein.drop('CD90')"
   ]
  },
  {
   "cell_type": "code",
   "execution_count": null,
   "metadata": {},
   "outputs": [],
   "source": [
    "sample.protein.ridgeplot(attribute='normalized_counts',\n",
    "                         features=sample.protein.ids())"
   ]
  },
  {
   "cell_type": "code",
   "execution_count": null,
   "metadata": {},
   "outputs": [],
   "source": [
    "# UMAP with the expression for each of the selected protein overlayed\n",
    "# In case of error, make sure that ids have been selected on the heatmap and shown in sample.protein.selected_ids\n",
    "\n",
    "fig = sample.protein.scatterplot(attribute='umap',\n",
    "                           colorby='normalized_counts',\n",
    "                           features=['Vista','CD8','CD3','CD15'])\n",
    "go.Figure(fig)"
   ]
  },
  {
   "cell_type": "markdown",
   "metadata": {},
   "source": [
    "#### Custom clustering"
   ]
  },
  {
   "cell_type": "markdown",
   "metadata": {},
   "source": [
    "    When `labels=False` for any scatterplot\n",
    "    the lasso tool can be used to cluster cells\n",
    "    based on the selection made"
   ]
  },
  {
   "cell_type": "code",
   "execution_count": null,
   "metadata": {},
   "outputs": [],
   "source": [
    "# Selction on biaxial scatterplot\n",
    "# The same can be done for UMAP when labels=False is passed\n",
    "\n",
    "fig = sample.protein.feature_scatter(layer='normalized_counts', ids=['CD3', 'Vista'],colorby='label')\n",
    "\n",
    "go.Figure(fig)"
   ]
  },
  {
   "cell_type": "code",
   "execution_count": null,
   "metadata": {},
   "outputs": [],
   "source": [
    "help(sample.protein.scatterplot)"
   ]
  },
  {
   "cell_type": "markdown",
   "metadata": {},
   "source": [
    "#### Custom methods by adding layers"
   ]
  },
  {
   "cell_type": "markdown",
   "metadata": {},
   "source": [
    "    If someone is interested in trying their methods,\n",
    "    they can simply modify the appropriate layers, attributes\n",
    "    and metadata to plugin their step in this workflow"
   ]
  },
  {
   "cell_type": "code",
   "execution_count": null,
   "metadata": {},
   "outputs": [],
   "source": [
    "# Custom normalization by changing the `normalized_counts` layer\n",
    "\n",
    "import numpy as np\n",
    "\n",
    "log_reads = np.log10(10 + sample.protein.layers['read_counts'])\n",
    "norm = np.divide(log_reads, log_reads.mean(axis=1).reshape(-1, 1))\n",
    "\n",
    "\n",
    "sample.protein.add_layer('normalized_counts', norm)"
   ]
  },
  {
   "cell_type": "markdown",
   "metadata": {},
   "source": [
    "    Other examples include:\n",
    "    \n",
    "    custom labels -> 'label' row_attr\n",
    "    custom palette -> 'palette' metadata   "
   ]
  },
  {
   "cell_type": "markdown",
   "metadata": {},
   "source": [
    "#### Conclusion"
   ]
  },
  {
   "cell_type": "markdown",
   "metadata": {},
   "source": [
    "    1. Protein analysis workflow similar to CNV\n",
    "    2. Different clustering methods can result in\n",
    "       different types of clusters being identified\n",
    "    3. It is possible to have custom clustering for\n",
    "       any scatterplot by using the lasso tool\n",
    "    4. Custom analysis is possible by modifying appropriate\n",
    "       layers, attributes and metadata"
   ]
  },
  {
   "cell_type": "markdown",
   "metadata": {},
   "source": [
    "### Statistics"
   ]
  },
  {
   "cell_type": "markdown",
   "metadata": {},
   "source": [
    "    The significane of differential expression\n",
    "    based on a t-test can be looked at using\n",
    "    the `feature_signature` method"
   ]
  },
  {
   "cell_type": "code",
   "execution_count": null,
   "metadata": {},
   "outputs": [],
   "source": [
    "med, std, pval, tstat = sample.protein.feature_signature(layer='normalized_counts')"
   ]
  },
  {
   "cell_type": "code",
   "execution_count": null,
   "metadata": {},
   "outputs": [],
   "source": [
    "pval"
   ]
  },
  {
   "cell_type": "code",
   "execution_count": null,
   "metadata": {},
   "outputs": [],
   "source": [
    "pval = pval + 10 ** -50 + pval\n",
    "pvals = -np.log10(pval) * (tstat > 0)"
   ]
  },
  {
   "cell_type": "code",
   "execution_count": null,
   "metadata": {},
   "outputs": [],
   "source": [
    "import matplotlib.pyplot as plt\n",
    "import seaborn as sns\n",
    "\n",
    "plt.figure(figsize=(20, 10))\n",
    "fig = sns.heatmap(pvals.T, vmax=50, vmin=40)\n",
    "#go.Figure(fig)"
   ]
  },
  {
   "cell_type": "markdown",
   "metadata": {},
   "source": [
    "### Combined visualizations"
   ]
  },
  {
   "cell_type": "markdown",
   "metadata": {},
   "source": [
    "    Visualization for multiple assays at once"
   ]
  },
  {
   "cell_type": "code",
   "execution_count": null,
   "metadata": {},
   "outputs": [],
   "source": [
    "help(sample.clone_vs_analyte)"
   ]
  },
  {
   "cell_type": "code",
   "execution_count": null,
   "metadata": {},
   "outputs": [],
   "source": [
    "fig = sample.clone_vs_analyte('cnv')"
   ]
  },
  {
   "cell_type": "code",
   "execution_count": null,
   "metadata": {},
   "outputs": [],
   "source": [
    "# In this case, only a set of barcodes are required\n",
    "\n",
    "# Choosing only two cell lines\n",
    "cells = sample.dna.barcodes(['TET2',\n",
    " 'TET2/WT1_914',\n",
    " 'TET2/WT1_914/FLT3_251',\n",
    " 'TET2/WT1_914/WT1_944',\n",
    " 'TET2/WT1_916',\n",
    " 'TET2/WT1_916/GATA2'])\n",
    "filtered_sample = sample[cells]"
   ]
  },
  {
   "cell_type": "code",
   "execution_count": null,
   "metadata": {},
   "outputs": [],
   "source": [
    "# This is showing all the variants, minus the false positives (ADO and small clones)\n",
    "\n",
    "fig = filtered_sample.clone_vs_analyte(analyte='protein')"
   ]
  },
  {
   "cell_type": "code",
   "execution_count": null,
   "metadata": {},
   "outputs": [],
   "source": [
    "filtered_sample.clone_vs_analyte('cnv')"
   ]
  },
  {
   "cell_type": "code",
   "execution_count": null,
   "metadata": {},
   "outputs": [],
   "source": [
    "### Filtering protein and cnv to improve the visualization\n",
    "\n",
    "filtered_sample.protein = filtered_sample.protein[:, ['CD117', 'CD11A', 'CD123', 'CD16', 'CD45RA','CD34','CD8','CD33' ]]\n",
    "#sample.cnv = sample.cnv[:, 58:85]\n",
    "filtered_sample.clone_vs_analyte('protein')"
   ]
  },
  {
   "cell_type": "code",
   "execution_count": null,
   "metadata": {},
   "outputs": [],
   "source": [
    "# The ids can also be reset to the entire set\n",
    "\n",
    "filtered_sample = sample[cells]"
   ]
  },
  {
   "cell_type": "code",
   "execution_count": null,
   "metadata": {},
   "outputs": [],
   "source": [
    "fig = filtered_sample.heatmap(clusterby='protein', sortby='dna', drop='cnv', flatten=False)\n",
    "# sample.heatmap(clusterby='protein', sortby='dna', drop='cnv', flatten=False)\n",
    "# sample.heatmap(clusterby='dna', sortby='protein', flatten=False)\n",
    "go.Figure(fig)"
   ]
  },
  {
   "cell_type": "markdown",
   "metadata": {},
   "source": [
    "Often the number of amplicons in CNV might take over the sample level heatmap making the plot uninterpretable. Moreover there might be certain non-differentiating variants and protein in the panel. These can be dropped before making the final heatmap."
   ]
  },
  {
   "cell_type": "code",
   "execution_count": null,
   "metadata": {},
   "outputs": [],
   "source": [
    "help(filtered_sample.heatmap)"
   ]
  },
  {
   "cell_type": "code",
   "execution_count": null,
   "metadata": {},
   "outputs": [],
   "source": [
    "# Filter the CNV with amplicons only from the relevant genes\n",
    "\n",
    "import numpy as np\n",
    "\n",
    "genes = filtered_sample.cnv.col_attrs['gene_name'].copy()\n",
    "relevant_ids = np.isin(genes, ['EZH2','BRAF','SAMD9','SAMD9L'])\n",
    "\n",
    "filtered_sample.cnv = filtered_sample.cnv[:, relevant_ids]"
   ]
  },
  {
   "cell_type": "code",
   "execution_count": null,
   "metadata": {},
   "outputs": [],
   "source": [
    "fig = filtered_sample.heatmap(clusterby='dna', sortby='cnv',drop='protein', flatten=False)\n",
    "\n",
    "# Update the width of the plot [See the section on CNV heatmaps]\n",
    "fig.layout.width = 3000\n",
    "\n",
    "# Change the CNV colorscale [See the section on CNV heatmaps]\n",
    "fig.data[2].zmax = 2\n",
    "fig.data[2].zmin = 0\n",
    "fig.data[2].colorscale = 'magma'\n",
    "\n",
    "# Updating the ticktexts to show the gene names instead\n",
    "fig.layout.xaxis3.ticktext = filtered_sample.cnv.col_attrs['gene_name'].copy()\n",
    "\n",
    "# Show as a static plot\n",
    "mutils.static_fig(fig, figsize=(20, 20))"
   ]
  },
  {
   "cell_type": "code",
   "execution_count": null,
   "metadata": {},
   "outputs": [],
   "source": [
    "#export data\n",
    "import os\n",
    "\n",
    "## set directory that does NOT exist\n",
    "folder_to_save = '/Users/robert_durruthy/Downloads/new-folder'\n",
    "\n",
    "os.mkdir(folder_to_save)\n",
    "for assay in [sample.dna, sample.cnv, sample.protein]:\n",
    "    if assay is not None:\n",
    "        os.mkdir(f'{folder_to_save}/{assay.name}')\n",
    "        os.mkdir(f'{folder_to_save}/{assay.name}/layers')\n",
    "        os.mkdir(f'{folder_to_save}/{assay.name}/rows')\n",
    "\n",
    "        for layer in assay.layers.keys():\n",
    "            df = assay.get_attribute(layer, constraint='row+col')\n",
    "            cols = list(df.columns.values)\n",
    "            df.loc[:, 'label'] = assay.get_labels()\n",
    "            df = df.loc[:, ['label'] + cols]\n",
    "            df.to_csv(f'{folder_to_save}/{assay.name}/layers/{layer}.csv')\n",
    "        \n",
    "        for row in assay.row_attrs.keys():\n",
    "            df = assay.get_attribute(row, constraint='row')\n",
    "            cols = list(df.columns.values)\n",
    "            df.loc[:, 'label'] = assay.get_labels()\n",
    "            df = df.loc[:, ['label'] + cols]\n",
    "            df.to_csv(f'{folder_to_save}/{assay.name}/rows/{row}.csv')"
   ]
  },
  {
   "cell_type": "code",
   "execution_count": null,
   "metadata": {},
   "outputs": [],
   "source": [
    "#fishplot DNA Requires multiple timepoints (merged h5 files on Tapestri Pipeline V2)\n",
    "fig = filtered_sample.dna.fishplot()\n",
    "go.Figure(fig)"
   ]
  },
  {
   "cell_type": "code",
   "execution_count": null,
   "metadata": {},
   "outputs": [],
   "source": [
    "#fishplot protein Requires multiple timepoints (merged h5 files on Tapestri Pipeline V2)\n",
    "fig = filtered_sample.protein.fishplot()\n",
    "go.Figure(fig)"
   ]
  },
  {
   "cell_type": "markdown",
   "metadata": {},
   "source": [
    "    Conclusion:\n",
    "    \n",
    "    Data from h5 files can be effeciently manipulated,\n",
    "    visualized, and inferred using this multiomics\n",
    "    exploratory tools (mextools)"
   ]
  },
  {
   "cell_type": "code",
   "execution_count": null,
   "metadata": {},
   "outputs": [],
   "source": []
  },
  {
   "cell_type": "code",
   "execution_count": null,
   "metadata": {},
   "outputs": [],
   "source": []
  },
  {
   "cell_type": "code",
   "execution_count": null,
   "metadata": {},
   "outputs": [],
   "source": []
  },
  {
   "cell_type": "code",
   "execution_count": null,
   "metadata": {},
   "outputs": [],
   "source": []
  },
  {
   "cell_type": "code",
   "execution_count": null,
   "metadata": {},
   "outputs": [],
   "source": []
  },
  {
   "cell_type": "code",
   "execution_count": null,
   "metadata": {},
   "outputs": [],
   "source": []
  },
  {
   "cell_type": "code",
   "execution_count": null,
   "metadata": {},
   "outputs": [],
   "source": []
  }
 ],
 "metadata": {
  "kernelspec": {
   "display_name": "Python 3 (ipykernel)",
   "language": "python",
   "name": "python3"
  },
  "language_info": {
   "codemirror_mode": {
    "name": "ipython",
    "version": 3
   },
   "file_extension": ".py",
   "mimetype": "text/x-python",
   "name": "python",
   "nbconvert_exporter": "python",
   "pygments_lexer": "ipython3",
   "version": "3.7.12"
  },
  "toc": {
   "base_numbering": 1,
   "nav_menu": {},
   "number_sections": true,
   "sideBar": true,
   "skip_h1_title": false,
   "title_cell": "Table of Contents",
   "title_sidebar": "Contents",
   "toc_cell": false,
   "toc_position": {
    "height": "calc(100% - 180px)",
    "left": "10px",
    "top": "150px",
    "width": "286px"
   },
   "toc_section_display": true,
   "toc_window_display": true
  }
 },
 "nbformat": 4,
 "nbformat_minor": 4
}
