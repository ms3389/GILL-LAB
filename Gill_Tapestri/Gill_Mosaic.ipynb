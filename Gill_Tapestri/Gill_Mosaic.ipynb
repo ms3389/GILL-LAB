{
 "cells": [
  {
   "cell_type": "markdown",
   "id": "980beb6c-4edb-4105-86e3-ae33cac7887d",
   "metadata": {},
   "source": [
    "# Gill Lab: Draft Pipeline for Mosaic Analysis of CD45 in AML Samples"
   ]
  },
  {
   "cell_type": "markdown",
   "id": "70b77639-ee32-4b42-b70e-7d94e8dc7753",
   "metadata": {},
   "source": [
    "## The following is a draft of the tertiary analysis pipeline for CRISPR-edited CD45+ Cells in AML "
   ]
  },
  {
   "cell_type": "code",
   "execution_count": null,
   "id": "b543fe48-6a3d-4f10-925a-c586880593e3",
   "metadata": {},
   "outputs": [],
   "source": []
  },
  {
   "cell_type": "code",
   "execution_count": null,
   "id": "d1133c3e-e093-476f-9678-4b661ac9ff58",
   "metadata": {},
   "outputs": [],
   "source": []
  },
  {
   "cell_type": "code",
   "execution_count": null,
   "id": "24db7294-b4af-4d40-92ac-f5a95df7ddd4",
   "metadata": {},
   "outputs": [],
   "source": []
  },
  {
   "cell_type": "code",
   "execution_count": null,
   "id": "74c86f4b-3882-4156-82e6-6c50ce9597ce",
   "metadata": {},
   "outputs": [],
   "source": []
  },
  {
   "cell_type": "code",
   "execution_count": null,
   "id": "6c24e6aa-4379-4669-b9bc-6d356c68dbef",
   "metadata": {},
   "outputs": [],
   "source": []
  },
  {
   "cell_type": "code",
   "execution_count": 1,
   "id": "33f9be7a-64b0-4cd6-a556-0523deab3f7c",
   "metadata": {},
   "outputs": [],
   "source": []
  },
  {
   "cell_type": "code",
   "execution_count": 5,
   "id": "3a5f25d6-6e4f-4acd-97ff-c6f836afaca3",
   "metadata": {},
   "outputs": [
    {
     "name": "stdout",
     "output_type": "stream",
     "text": [
      "Usage: tapestri h5 merge [OPTIONS] COMMAND [ARGS]...\n",
      "\n",
      "Options:\n",
      "  -h, --help  Show this message and exit.\n",
      "\n",
      "Commands:\n",
      "  assays   Merge assays from SRC into DST\n",
      "  samples  Merge samples from SRC into DST\n"
     ]
    },
    {
     "data": {
      "text/plain": [
       "0"
      ]
     },
     "execution_count": 5,
     "metadata": {},
     "output_type": "execute_result"
    }
   ],
   "source": [
    "import os\n",
    "os.system(\"tapestri h5 merge -h\")"
   ]
  },
  {
   "cell_type": "code",
   "execution_count": null,
   "id": "f3e5d1da-4958-4807-8bd9-d6a502f0c2d0",
   "metadata": {},
   "outputs": [],
   "source": [
    "os.system(\"tapestri h5 merge samples sample1.h5 sample2.h5 sample3.h5 merged.h5\")"
   ]
  }
 ],
 "metadata": {
  "kernelspec": {
   "display_name": "Python 3 (ipykernel)",
   "language": "python",
   "name": "python3"
  },
  "language_info": {
   "codemirror_mode": {
    "name": "ipython",
    "version": 3
   },
   "file_extension": ".py",
   "mimetype": "text/x-python",
   "name": "python",
   "nbconvert_exporter": "python",
   "pygments_lexer": "ipython3",
   "version": "3.7.12"
  }
 },
 "nbformat": 4,
 "nbformat_minor": 5
}
